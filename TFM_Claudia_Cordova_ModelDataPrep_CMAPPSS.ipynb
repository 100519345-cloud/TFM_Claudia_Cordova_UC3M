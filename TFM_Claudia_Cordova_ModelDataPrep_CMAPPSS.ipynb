{
  "nbformat": 4,
  "nbformat_minor": 0,
  "metadata": {
    "colab": {
      "provenance": []
    },
    "kernelspec": {
      "name": "python3",
      "display_name": "Python 3"
    },
    "language_info": {
      "name": "python"
    }
  },
  "cells": [
    {
      "cell_type": "code",
      "execution_count": 1,
      "metadata": {
        "colab": {
          "base_uri": "https://localhost:8080/",
          "height": 226
        },
        "id": "2bPQR6jiRc0y",
        "outputId": "60628a9c-ba00-4144-ceae-a9ca916b9fce"
      },
      "outputs": [
        {
          "output_type": "execute_result",
          "data": {
            "text/plain": [
              "   engine_id  cycle  RUL        s2        s3        s4        s7        s8  \\\n",
              "0          1      1  191  0.183735  0.406802  0.309757  0.726248  0.242424   \n",
              "1          1      2  190  0.283133  0.453019  0.352633  0.628019  0.212121   \n",
              "2          1      3  189  0.343373  0.369523  0.370527  0.710145  0.272727   \n",
              "3          1      4  188  0.343373  0.256159  0.331195  0.740741  0.318182   \n",
              "4          1      5  187  0.349398  0.257467  0.404625  0.668277  0.242424   \n",
              "\n",
              "         s9       s11       s12       s13       s14       s15       s17  \\\n",
              "0  0.109755  0.369048  0.633262  0.205882  0.199608  0.363986  0.333333   \n",
              "1  0.100242  0.380952  0.765458  0.279412  0.162813  0.411312  0.333333   \n",
              "2  0.140043  0.250000  0.795309  0.220588  0.171793  0.357445  0.166667   \n",
              "3  0.124518  0.166667  0.889126  0.294118  0.174889  0.166603  0.333333   \n",
              "4  0.149960  0.255952  0.746269  0.235294  0.174734  0.402078  0.416667   \n",
              "\n",
              "        s20       s21  \n",
              "0  0.713178  0.724662  \n",
              "1  0.666667  0.731014  \n",
              "2  0.627907  0.621375  \n",
              "3  0.573643  0.662386  \n",
              "4  0.589147  0.704502  "
            ],
            "text/html": [
              "\n",
              "  <div id=\"df-72318ae7-c43b-4d0d-b9df-4d2ac69a157b\" class=\"colab-df-container\">\n",
              "    <div>\n",
              "<style scoped>\n",
              "    .dataframe tbody tr th:only-of-type {\n",
              "        vertical-align: middle;\n",
              "    }\n",
              "\n",
              "    .dataframe tbody tr th {\n",
              "        vertical-align: top;\n",
              "    }\n",
              "\n",
              "    .dataframe thead th {\n",
              "        text-align: right;\n",
              "    }\n",
              "</style>\n",
              "<table border=\"1\" class=\"dataframe\">\n",
              "  <thead>\n",
              "    <tr style=\"text-align: right;\">\n",
              "      <th></th>\n",
              "      <th>engine_id</th>\n",
              "      <th>cycle</th>\n",
              "      <th>RUL</th>\n",
              "      <th>s2</th>\n",
              "      <th>s3</th>\n",
              "      <th>s4</th>\n",
              "      <th>s7</th>\n",
              "      <th>s8</th>\n",
              "      <th>s9</th>\n",
              "      <th>s11</th>\n",
              "      <th>s12</th>\n",
              "      <th>s13</th>\n",
              "      <th>s14</th>\n",
              "      <th>s15</th>\n",
              "      <th>s17</th>\n",
              "      <th>s20</th>\n",
              "      <th>s21</th>\n",
              "    </tr>\n",
              "  </thead>\n",
              "  <tbody>\n",
              "    <tr>\n",
              "      <th>0</th>\n",
              "      <td>1</td>\n",
              "      <td>1</td>\n",
              "      <td>191</td>\n",
              "      <td>0.183735</td>\n",
              "      <td>0.406802</td>\n",
              "      <td>0.309757</td>\n",
              "      <td>0.726248</td>\n",
              "      <td>0.242424</td>\n",
              "      <td>0.109755</td>\n",
              "      <td>0.369048</td>\n",
              "      <td>0.633262</td>\n",
              "      <td>0.205882</td>\n",
              "      <td>0.199608</td>\n",
              "      <td>0.363986</td>\n",
              "      <td>0.333333</td>\n",
              "      <td>0.713178</td>\n",
              "      <td>0.724662</td>\n",
              "    </tr>\n",
              "    <tr>\n",
              "      <th>1</th>\n",
              "      <td>1</td>\n",
              "      <td>2</td>\n",
              "      <td>190</td>\n",
              "      <td>0.283133</td>\n",
              "      <td>0.453019</td>\n",
              "      <td>0.352633</td>\n",
              "      <td>0.628019</td>\n",
              "      <td>0.212121</td>\n",
              "      <td>0.100242</td>\n",
              "      <td>0.380952</td>\n",
              "      <td>0.765458</td>\n",
              "      <td>0.279412</td>\n",
              "      <td>0.162813</td>\n",
              "      <td>0.411312</td>\n",
              "      <td>0.333333</td>\n",
              "      <td>0.666667</td>\n",
              "      <td>0.731014</td>\n",
              "    </tr>\n",
              "    <tr>\n",
              "      <th>2</th>\n",
              "      <td>1</td>\n",
              "      <td>3</td>\n",
              "      <td>189</td>\n",
              "      <td>0.343373</td>\n",
              "      <td>0.369523</td>\n",
              "      <td>0.370527</td>\n",
              "      <td>0.710145</td>\n",
              "      <td>0.272727</td>\n",
              "      <td>0.140043</td>\n",
              "      <td>0.250000</td>\n",
              "      <td>0.795309</td>\n",
              "      <td>0.220588</td>\n",
              "      <td>0.171793</td>\n",
              "      <td>0.357445</td>\n",
              "      <td>0.166667</td>\n",
              "      <td>0.627907</td>\n",
              "      <td>0.621375</td>\n",
              "    </tr>\n",
              "    <tr>\n",
              "      <th>3</th>\n",
              "      <td>1</td>\n",
              "      <td>4</td>\n",
              "      <td>188</td>\n",
              "      <td>0.343373</td>\n",
              "      <td>0.256159</td>\n",
              "      <td>0.331195</td>\n",
              "      <td>0.740741</td>\n",
              "      <td>0.318182</td>\n",
              "      <td>0.124518</td>\n",
              "      <td>0.166667</td>\n",
              "      <td>0.889126</td>\n",
              "      <td>0.294118</td>\n",
              "      <td>0.174889</td>\n",
              "      <td>0.166603</td>\n",
              "      <td>0.333333</td>\n",
              "      <td>0.573643</td>\n",
              "      <td>0.662386</td>\n",
              "    </tr>\n",
              "    <tr>\n",
              "      <th>4</th>\n",
              "      <td>1</td>\n",
              "      <td>5</td>\n",
              "      <td>187</td>\n",
              "      <td>0.349398</td>\n",
              "      <td>0.257467</td>\n",
              "      <td>0.404625</td>\n",
              "      <td>0.668277</td>\n",
              "      <td>0.242424</td>\n",
              "      <td>0.149960</td>\n",
              "      <td>0.255952</td>\n",
              "      <td>0.746269</td>\n",
              "      <td>0.235294</td>\n",
              "      <td>0.174734</td>\n",
              "      <td>0.402078</td>\n",
              "      <td>0.416667</td>\n",
              "      <td>0.589147</td>\n",
              "      <td>0.704502</td>\n",
              "    </tr>\n",
              "  </tbody>\n",
              "</table>\n",
              "</div>\n",
              "    <div class=\"colab-df-buttons\">\n",
              "\n",
              "  <div class=\"colab-df-container\">\n",
              "    <button class=\"colab-df-convert\" onclick=\"convertToInteractive('df-72318ae7-c43b-4d0d-b9df-4d2ac69a157b')\"\n",
              "            title=\"Convert this dataframe to an interactive table.\"\n",
              "            style=\"display:none;\">\n",
              "\n",
              "  <svg xmlns=\"http://www.w3.org/2000/svg\" height=\"24px\" viewBox=\"0 -960 960 960\">\n",
              "    <path d=\"M120-120v-720h720v720H120Zm60-500h600v-160H180v160Zm220 220h160v-160H400v160Zm0 220h160v-160H400v160ZM180-400h160v-160H180v160Zm440 0h160v-160H620v160ZM180-180h160v-160H180v160Zm440 0h160v-160H620v160Z\"/>\n",
              "  </svg>\n",
              "    </button>\n",
              "\n",
              "  <style>\n",
              "    .colab-df-container {\n",
              "      display:flex;\n",
              "      gap: 12px;\n",
              "    }\n",
              "\n",
              "    .colab-df-convert {\n",
              "      background-color: #E8F0FE;\n",
              "      border: none;\n",
              "      border-radius: 50%;\n",
              "      cursor: pointer;\n",
              "      display: none;\n",
              "      fill: #1967D2;\n",
              "      height: 32px;\n",
              "      padding: 0 0 0 0;\n",
              "      width: 32px;\n",
              "    }\n",
              "\n",
              "    .colab-df-convert:hover {\n",
              "      background-color: #E2EBFA;\n",
              "      box-shadow: 0px 1px 2px rgba(60, 64, 67, 0.3), 0px 1px 3px 1px rgba(60, 64, 67, 0.15);\n",
              "      fill: #174EA6;\n",
              "    }\n",
              "\n",
              "    .colab-df-buttons div {\n",
              "      margin-bottom: 4px;\n",
              "    }\n",
              "\n",
              "    [theme=dark] .colab-df-convert {\n",
              "      background-color: #3B4455;\n",
              "      fill: #D2E3FC;\n",
              "    }\n",
              "\n",
              "    [theme=dark] .colab-df-convert:hover {\n",
              "      background-color: #434B5C;\n",
              "      box-shadow: 0px 1px 3px 1px rgba(0, 0, 0, 0.15);\n",
              "      filter: drop-shadow(0px 1px 2px rgba(0, 0, 0, 0.3));\n",
              "      fill: #FFFFFF;\n",
              "    }\n",
              "  </style>\n",
              "\n",
              "    <script>\n",
              "      const buttonEl =\n",
              "        document.querySelector('#df-72318ae7-c43b-4d0d-b9df-4d2ac69a157b button.colab-df-convert');\n",
              "      buttonEl.style.display =\n",
              "        google.colab.kernel.accessAllowed ? 'block' : 'none';\n",
              "\n",
              "      async function convertToInteractive(key) {\n",
              "        const element = document.querySelector('#df-72318ae7-c43b-4d0d-b9df-4d2ac69a157b');\n",
              "        const dataTable =\n",
              "          await google.colab.kernel.invokeFunction('convertToInteractive',\n",
              "                                                    [key], {});\n",
              "        if (!dataTable) return;\n",
              "\n",
              "        const docLinkHtml = 'Like what you see? Visit the ' +\n",
              "          '<a target=\"_blank\" href=https://colab.research.google.com/notebooks/data_table.ipynb>data table notebook</a>'\n",
              "          + ' to learn more about interactive tables.';\n",
              "        element.innerHTML = '';\n",
              "        dataTable['output_type'] = 'display_data';\n",
              "        await google.colab.output.renderOutput(dataTable, element);\n",
              "        const docLink = document.createElement('div');\n",
              "        docLink.innerHTML = docLinkHtml;\n",
              "        element.appendChild(docLink);\n",
              "      }\n",
              "    </script>\n",
              "  </div>\n",
              "\n",
              "\n",
              "    <div id=\"df-e5158b3a-28b1-4706-a95d-0fe422c2e442\">\n",
              "      <button class=\"colab-df-quickchart\" onclick=\"quickchart('df-e5158b3a-28b1-4706-a95d-0fe422c2e442')\"\n",
              "                title=\"Suggest charts\"\n",
              "                style=\"display:none;\">\n",
              "\n",
              "<svg xmlns=\"http://www.w3.org/2000/svg\" height=\"24px\"viewBox=\"0 0 24 24\"\n",
              "     width=\"24px\">\n",
              "    <g>\n",
              "        <path d=\"M19 3H5c-1.1 0-2 .9-2 2v14c0 1.1.9 2 2 2h14c1.1 0 2-.9 2-2V5c0-1.1-.9-2-2-2zM9 17H7v-7h2v7zm4 0h-2V7h2v10zm4 0h-2v-4h2v4z\"/>\n",
              "    </g>\n",
              "</svg>\n",
              "      </button>\n",
              "\n",
              "<style>\n",
              "  .colab-df-quickchart {\n",
              "      --bg-color: #E8F0FE;\n",
              "      --fill-color: #1967D2;\n",
              "      --hover-bg-color: #E2EBFA;\n",
              "      --hover-fill-color: #174EA6;\n",
              "      --disabled-fill-color: #AAA;\n",
              "      --disabled-bg-color: #DDD;\n",
              "  }\n",
              "\n",
              "  [theme=dark] .colab-df-quickchart {\n",
              "      --bg-color: #3B4455;\n",
              "      --fill-color: #D2E3FC;\n",
              "      --hover-bg-color: #434B5C;\n",
              "      --hover-fill-color: #FFFFFF;\n",
              "      --disabled-bg-color: #3B4455;\n",
              "      --disabled-fill-color: #666;\n",
              "  }\n",
              "\n",
              "  .colab-df-quickchart {\n",
              "    background-color: var(--bg-color);\n",
              "    border: none;\n",
              "    border-radius: 50%;\n",
              "    cursor: pointer;\n",
              "    display: none;\n",
              "    fill: var(--fill-color);\n",
              "    height: 32px;\n",
              "    padding: 0;\n",
              "    width: 32px;\n",
              "  }\n",
              "\n",
              "  .colab-df-quickchart:hover {\n",
              "    background-color: var(--hover-bg-color);\n",
              "    box-shadow: 0 1px 2px rgba(60, 64, 67, 0.3), 0 1px 3px 1px rgba(60, 64, 67, 0.15);\n",
              "    fill: var(--button-hover-fill-color);\n",
              "  }\n",
              "\n",
              "  .colab-df-quickchart-complete:disabled,\n",
              "  .colab-df-quickchart-complete:disabled:hover {\n",
              "    background-color: var(--disabled-bg-color);\n",
              "    fill: var(--disabled-fill-color);\n",
              "    box-shadow: none;\n",
              "  }\n",
              "\n",
              "  .colab-df-spinner {\n",
              "    border: 2px solid var(--fill-color);\n",
              "    border-color: transparent;\n",
              "    border-bottom-color: var(--fill-color);\n",
              "    animation:\n",
              "      spin 1s steps(1) infinite;\n",
              "  }\n",
              "\n",
              "  @keyframes spin {\n",
              "    0% {\n",
              "      border-color: transparent;\n",
              "      border-bottom-color: var(--fill-color);\n",
              "      border-left-color: var(--fill-color);\n",
              "    }\n",
              "    20% {\n",
              "      border-color: transparent;\n",
              "      border-left-color: var(--fill-color);\n",
              "      border-top-color: var(--fill-color);\n",
              "    }\n",
              "    30% {\n",
              "      border-color: transparent;\n",
              "      border-left-color: var(--fill-color);\n",
              "      border-top-color: var(--fill-color);\n",
              "      border-right-color: var(--fill-color);\n",
              "    }\n",
              "    40% {\n",
              "      border-color: transparent;\n",
              "      border-right-color: var(--fill-color);\n",
              "      border-top-color: var(--fill-color);\n",
              "    }\n",
              "    60% {\n",
              "      border-color: transparent;\n",
              "      border-right-color: var(--fill-color);\n",
              "    }\n",
              "    80% {\n",
              "      border-color: transparent;\n",
              "      border-right-color: var(--fill-color);\n",
              "      border-bottom-color: var(--fill-color);\n",
              "    }\n",
              "    90% {\n",
              "      border-color: transparent;\n",
              "      border-bottom-color: var(--fill-color);\n",
              "    }\n",
              "  }\n",
              "</style>\n",
              "\n",
              "      <script>\n",
              "        async function quickchart(key) {\n",
              "          const quickchartButtonEl =\n",
              "            document.querySelector('#' + key + ' button');\n",
              "          quickchartButtonEl.disabled = true;  // To prevent multiple clicks.\n",
              "          quickchartButtonEl.classList.add('colab-df-spinner');\n",
              "          try {\n",
              "            const charts = await google.colab.kernel.invokeFunction(\n",
              "                'suggestCharts', [key], {});\n",
              "          } catch (error) {\n",
              "            console.error('Error during call to suggestCharts:', error);\n",
              "          }\n",
              "          quickchartButtonEl.classList.remove('colab-df-spinner');\n",
              "          quickchartButtonEl.classList.add('colab-df-quickchart-complete');\n",
              "        }\n",
              "        (() => {\n",
              "          let quickchartButtonEl =\n",
              "            document.querySelector('#df-e5158b3a-28b1-4706-a95d-0fe422c2e442 button');\n",
              "          quickchartButtonEl.style.display =\n",
              "            google.colab.kernel.accessAllowed ? 'block' : 'none';\n",
              "        })();\n",
              "      </script>\n",
              "    </div>\n",
              "\n",
              "    </div>\n",
              "  </div>\n"
            ],
            "application/vnd.google.colaboratory.intrinsic+json": {
              "type": "dataframe",
              "variable_name": "df",
              "summary": "{\n  \"name\": \"df\",\n  \"rows\": 20631,\n  \"fields\": [\n    {\n      \"column\": \"engine_id\",\n      \"properties\": {\n        \"dtype\": \"number\",\n        \"std\": 29,\n        \"min\": 1,\n        \"max\": 100,\n        \"num_unique_values\": 100,\n        \"samples\": [\n          84,\n          54,\n          71\n        ],\n        \"semantic_type\": \"\",\n        \"description\": \"\"\n      }\n    },\n    {\n      \"column\": \"cycle\",\n      \"properties\": {\n        \"dtype\": \"number\",\n        \"std\": 68,\n        \"min\": 1,\n        \"max\": 362,\n        \"num_unique_values\": 362,\n        \"samples\": [\n          164,\n          34,\n          16\n        ],\n        \"semantic_type\": \"\",\n        \"description\": \"\"\n      }\n    },\n    {\n      \"column\": \"RUL\",\n      \"properties\": {\n        \"dtype\": \"number\",\n        \"std\": 68,\n        \"min\": 0,\n        \"max\": 361,\n        \"num_unique_values\": 362,\n        \"samples\": [\n          28,\n          158,\n          176\n        ],\n        \"semantic_type\": \"\",\n        \"description\": \"\"\n      }\n    },\n    {\n      \"column\": \"s2\",\n      \"properties\": {\n        \"dtype\": \"number\",\n        \"std\": 0.15061845483753933,\n        \"min\": 0.0,\n        \"max\": 1.0,\n        \"num_unique_values\": 310,\n        \"samples\": [\n          0.1144578313252964,\n          0.322289156626482,\n          0.2499999999999715\n        ],\n        \"semantic_type\": \"\",\n        \"description\": \"\"\n      }\n    },\n    {\n      \"column\": \"s3\",\n      \"properties\": {\n        \"dtype\": \"number\",\n        \"std\": 0.13366360409179853,\n        \"min\": 0.0,\n        \"max\": 1.0,\n        \"num_unique_values\": 3012,\n        \"samples\": [\n          0.5005450185306302,\n          0.4405929801613268,\n          0.6058425986483584\n        ],\n        \"semantic_type\": \"\",\n        \"description\": \"\"\n      }\n    },\n    {\n      \"column\": \"s4\",\n      \"properties\": {\n        \"dtype\": \"number\",\n        \"std\": 0.15193458441160843,\n        \"min\": 0.0,\n        \"max\": 1.0,\n        \"num_unique_values\": 4051,\n        \"samples\": [\n          0.5589128966914245,\n          0.6434841323430085,\n          0.8688386225523281\n        ],\n        \"semantic_type\": \"\",\n        \"description\": \"\"\n      }\n    },\n    {\n      \"column\": \"s7\",\n      \"properties\": {\n        \"dtype\": \"number\",\n        \"std\": 0.14252693360119423,\n        \"min\": 0.0,\n        \"max\": 1.0,\n        \"num_unique_values\": 513,\n        \"samples\": [\n          0.8470209339774613,\n          0.1223832528180253,\n          0.8083735909822849\n        ],\n        \"semantic_type\": \"\",\n        \"description\": \"\"\n      }\n    },\n    {\n      \"column\": \"s8\",\n      \"properties\": {\n        \"dtype\": \"number\",\n        \"std\": 0.1075537558953646,\n        \"min\": 0.0,\n        \"max\": 1.0,\n        \"num_unique_values\": 53,\n        \"samples\": [\n          0.5454545454549589,\n          0.6515151515150137,\n          0.6969696969699726\n        ],\n        \"semantic_type\": \"\",\n        \"description\": \"\"\n      }\n    },\n    {\n      \"column\": \"s9\",\n      \"properties\": {\n        \"dtype\": \"number\",\n        \"std\": 0.09908857365640408,\n        \"min\": 0.0,\n        \"max\": 1.0,\n        \"num_unique_values\": 6403,\n        \"samples\": [\n          0.2153818540787924,\n          0.2134972628556042,\n          0.3475724670196527\n        ],\n        \"semantic_type\": \"\",\n        \"description\": \"\"\n      }\n    },\n    {\n      \"column\": \"s11\",\n      \"properties\": {\n        \"dtype\": \"number\",\n        \"std\": 0.1589805944283841,\n        \"min\": 0.0,\n        \"max\": 1.0,\n        \"num_unique_values\": 159,\n        \"samples\": [\n          0.8809523809523796,\n          0.0357142857142847,\n          0.6071428571428577\n        ],\n        \"semantic_type\": \"\",\n        \"description\": \"\"\n      }\n    },\n    {\n      \"column\": \"s12\",\n      \"properties\": {\n        \"dtype\": \"number\",\n        \"std\": 0.15726085121742517,\n        \"min\": 0.0,\n        \"max\": 1.0,\n        \"num_unique_values\": 427,\n        \"samples\": [\n          0.993603411513874,\n          0.5692963752665321,\n          0.6439232409381788\n        ],\n        \"semantic_type\": \"\",\n        \"description\": \"\"\n      }\n    },\n    {\n      \"column\": \"s13\",\n      \"properties\": {\n        \"dtype\": \"number\",\n        \"std\": 0.10576311132144867,\n        \"min\": 0.0,\n        \"max\": 1.0,\n        \"num_unique_values\": 56,\n        \"samples\": [\n          0.2058823529409892,\n          0.25,\n          0.647058823529278\n        ],\n        \"semantic_type\": \"\",\n        \"description\": \"\"\n      }\n    },\n    {\n      \"column\": \"s14\",\n      \"properties\": {\n        \"dtype\": \"number\",\n        \"std\": 0.09844243975618261,\n        \"min\": 0.0,\n        \"max\": 1.0,\n        \"num_unique_values\": 6078,\n        \"samples\": [\n          0.5677572504902457,\n          0.2213850758592244,\n          0.203426566209103\n        ],\n        \"semantic_type\": \"\",\n        \"description\": \"\"\n      }\n    },\n    {\n      \"column\": \"s15\",\n      \"properties\": {\n        \"dtype\": \"number\",\n        \"std\": 0.14430564814146388,\n        \"min\": 0.0,\n        \"max\": 1.0,\n        \"num_unique_values\": 1918,\n        \"samples\": [\n          0.4682570219315138,\n          0.7472104655636826,\n          0.6868026163909207\n        ],\n        \"semantic_type\": \"\",\n        \"description\": \"\"\n      }\n    },\n    {\n      \"column\": \"s17\",\n      \"properties\": {\n        \"dtype\": \"number\",\n        \"std\": 0.12906358538452264,\n        \"min\": 0.0,\n        \"max\": 1.0,\n        \"num_unique_values\": 13,\n        \"samples\": [\n          0.0,\n          0.0833333333333357,\n          0.3333333333333357\n        ],\n        \"semantic_type\": \"\",\n        \"description\": \"\"\n      }\n    },\n    {\n      \"column\": \"s20\",\n      \"properties\": {\n        \"dtype\": \"number\",\n        \"std\": 0.14011350997957905,\n        \"min\": 0.0,\n        \"max\": 1.0,\n        \"num_unique_values\": 120,\n        \"samples\": [\n          0.3255813953488378,\n          0.4031007751937956,\n          0.5891472868217029\n        ],\n        \"semantic_type\": \"\",\n        \"description\": \"\"\n      }\n    },\n    {\n      \"column\": \"s21\",\n      \"properties\": {\n        \"dtype\": \"number\",\n        \"std\": 0.1494764909485121,\n        \"min\": 0.0,\n        \"max\": 1.0,\n        \"num_unique_values\": 4745,\n        \"samples\": [\n          0.587268710301025,\n          0.492405412869374,\n          0.419359293012981\n        ],\n        \"semantic_type\": \"\",\n        \"description\": \"\"\n      }\n    }\n  ]\n}"
            }
          },
          "metadata": {},
          "execution_count": 1
        }
      ],
      "source": [
        "import pandas as pd\n",
        "\n",
        "#to upload the source\n",
        "df = pd.read_csv('df_selected_preprocessed.csv')\n",
        "df.head()\n"
      ]
    },
    {
      "cell_type": "code",
      "source": [
        "# size for secuential temporal\n",
        "window_size = 30\n",
        "feature_cols = [col for col in df.columns if col not in ['engine_id', 'cycle', 'RUL']]\n"
      ],
      "metadata": {
        "id": "FbvWyvYdVORF"
      },
      "execution_count": 4,
      "outputs": []
    },
    {
      "cell_type": "code",
      "source": [
        "import numpy as np\n",
        "\n",
        "def generate_windows(df, window_size, feature_cols):\n",
        "    X = []\n",
        "    y = []\n",
        "    engine_ids = df['engine_id'].unique()\n",
        "\n",
        "    for engine_id in engine_ids:\n",
        "        engine_df = df[df['engine_id'] == engine_id].reset_index(drop=True)\n",
        "        num_cycles = engine_df.shape[0]\n",
        "\n",
        "        if num_cycles >= window_size:\n",
        "            for i in range(num_cycles - window_size + 1):\n",
        "                window = engine_df.loc[i:i+window_size-1, feature_cols].values\n",
        "                label = engine_df.loc[i+window_size-1, 'RUL']\n",
        "                X.append(window)\n",
        "                y.append(label)\n",
        "\n",
        "    return np.array(X), np.array(y)\n"
      ],
      "metadata": {
        "id": "Lnm59zmIVZn-"
      },
      "execution_count": 5,
      "outputs": []
    },
    {
      "cell_type": "code",
      "source": [
        "X, y = generate_windows(df, window_size, feature_cols)\n",
        "\n",
        "print(\"Shape of X:\", X.shape)\n",
        "print(\"Shape of y:\", y.shape)\n"
      ],
      "metadata": {
        "colab": {
          "base_uri": "https://localhost:8080/"
        },
        "id": "e7B8KCoAVs3S",
        "outputId": "e9139d07-0427-48e5-ac4b-c76a5adba319"
      },
      "execution_count": 6,
      "outputs": [
        {
          "output_type": "stream",
          "name": "stdout",
          "text": [
            "Shape of X: (17731, 30, 14)\n",
            "Shape of y: (17731,)\n"
          ]
        }
      ]
    },
    {
      "cell_type": "code",
      "source": [
        "from sklearn.model_selection import train_test_split\n",
        "\n",
        "# my list of unique IDs\n",
        "engine_ids = df['engine_id'].unique()\n",
        "\n",
        "# Train-test split (80% train, 20% test)\n",
        "train_ids, test_ids = train_test_split(engine_ids, test_size=0.2, random_state=42)\n",
        "\n",
        "# Creating new dataframes\n",
        "df_train = df[df['engine_id'].isin(train_ids)].reset_index(drop=True)\n",
        "df_test = df[df['engine_id'].isin(test_ids)].reset_index(drop=True)\n"
      ],
      "metadata": {
        "id": "Q_ch8MLmdSow"
      },
      "execution_count": 7,
      "outputs": []
    },
    {
      "cell_type": "code",
      "source": [
        "X_train, y_train = generate_windows(df_train, window_size, feature_cols)\n",
        "X_test, y_test = generate_windows(df_test, window_size, feature_cols)\n"
      ],
      "metadata": {
        "id": "fniNXOWXdbM1"
      },
      "execution_count": 8,
      "outputs": []
    },
    {
      "cell_type": "code",
      "source": [
        "#to confirm that everthing is ok\n",
        "print(\"Shape of X_train:\", X_train.shape)\n",
        "print(\"Shape of y_train:\", y_train.shape)\n",
        "print(\"Shape of X_test:\", X_test.shape)\n",
        "print(\"Shape of y_test:\", y_test.shape)"
      ],
      "metadata": {
        "colab": {
          "base_uri": "https://localhost:8080/"
        },
        "id": "_gLTVCpEdjMw",
        "outputId": "26ba4b1f-70d3-4c87-8a78-61b9f6b8507a"
      },
      "execution_count": 9,
      "outputs": [
        {
          "output_type": "stream",
          "name": "stdout",
          "text": [
            "Shape of X_train: (14241, 30, 14)\n",
            "Shape of y_train: (14241,)\n",
            "Shape of X_test: (3490, 30, 14)\n",
            "Shape of y_test: (3490,)\n"
          ]
        }
      ]
    },
    {
      "cell_type": "code",
      "source": [
        "np.save('X_train.npy', X_train)\n",
        "np.save('y_train.npy', y_train)\n",
        "np.save('X_test.npy', X_test)\n",
        "np.save('y_test.npy', y_test)\n"
      ],
      "metadata": {
        "id": "OgM0Cq-Bdvsd"
      },
      "execution_count": 10,
      "outputs": []
    },
    {
      "cell_type": "code",
      "source": [
        "import os\n",
        "\n",
        "print(\"Files saved:\")\n",
        "for filename in ['X_train.npy', 'y_train.npy', 'X_test.npy', 'y_test.npy']:\n",
        "    print(f\"{filename}: {'Exists' if os.path.exists(filename) else 'Missing'}\")\n"
      ],
      "metadata": {
        "colab": {
          "base_uri": "https://localhost:8080/"
        },
        "id": "P1vYgrmFhpb8",
        "outputId": "e33e92c6-e075-4c0b-d2d3-2485e3974c9a"
      },
      "execution_count": 11,
      "outputs": [
        {
          "output_type": "stream",
          "name": "stdout",
          "text": [
            "Files saved:\n",
            "X_train.npy: Exists\n",
            "y_train.npy: Exists\n",
            "X_test.npy: Exists\n",
            "y_test.npy: Exists\n"
          ]
        }
      ]
    },
    {
      "cell_type": "code",
      "source": [
        "import numpy as np\n",
        "from sklearn.preprocessing import MinMaxScaler\n",
        "\n",
        "X_train = np.load(\"X_train.npy\")\n",
        "X_test = np.load(\"X_test.npy\")\n",
        "\n",
        "n_samples_train, time_steps, n_features = X_train.shape\n",
        "X_train_reshaped = X_train.reshape(-1, n_features)\n",
        "\n",
        "scaler = MinMaxScaler()\n",
        "X_train_scaled = scaler.fit_transform(X_train_reshaped)\n",
        "\n",
        "X_test_reshaped = X_test.reshape(-1, n_features)\n",
        "X_test_scaled = scaler.transform(X_test_reshaped)\n",
        "\n",
        "X_train_scaled = X_train_scaled.reshape(n_samples_train, time_steps, n_features)\n",
        "X_test_scaled = X_test_scaled.reshape(X_test.shape[0], time_steps, n_features)\n",
        "\n",
        "\n",
        "np.save(\"X_train_scaled.npy\", X_train_scaled)\n",
        "np.save(\"X_test_scaled.npy\", X_test_scaled)\n",
        "\n",
        "print(\"Scaling complete. Shapes:\")\n",
        "print(\"X_train_scaled:\", X_train_scaled.shape)\n",
        "print(\"X_test_scaled:\", X_test_scaled.shape)\n"
      ],
      "metadata": {
        "colab": {
          "base_uri": "https://localhost:8080/"
        },
        "id": "2SuoElPxlcC3",
        "outputId": "e080450d-da25-4017-f882-85923c650217"
      },
      "execution_count": 12,
      "outputs": [
        {
          "output_type": "stream",
          "name": "stdout",
          "text": [
            "Scaling complete. Shapes:\n",
            "X_train_scaled: (14241, 30, 14)\n",
            "X_test_scaled: (3490, 30, 14)\n"
          ]
        }
      ]
    },
    {
      "cell_type": "code",
      "source": [
        "from sklearn.linear_model import LinearRegression\n",
        "from sklearn.metrics import mean_squared_error, mean_absolute_error\n",
        "import numpy as np\n",
        "\n",
        "# upload\n",
        "X_train = np.load(\"X_train_scaled.npy\")\n",
        "X_test = np.load(\"X_test_scaled.npy\")\n",
        "y_train = np.load(\"y_train.npy\")\n",
        "y_test = np.load(\"y_test.npy\")\n",
        "\n",
        "# neccesary for critics models\n",
        "X_train_flat = X_train.reshape(X_train.shape[0], -1)\n",
        "X_test_flat = X_test.reshape(X_test.shape[0], -1)\n",
        "\n",
        "# train the model for linear regressesion\n",
        "lr_model = LinearRegression()\n",
        "lr_model.fit(X_train_flat, y_train)\n",
        "\n",
        "# Predice\n",
        "y_pred_lr = lr_model.predict(X_test_flat)\n",
        "\n",
        "# Evaluate\n",
        "rmse = np.sqrt(mean_squared_error(y_test, y_pred_lr))\n",
        "mae = mean_absolute_error(y_test, y_pred_lr)\n",
        "\n",
        "print(\"📊 Linear Regression Performance:\")\n",
        "print(f\"RMSE: {rmse:.2f}\")\n",
        "print(f\"MAE:  {mae:.2f}\")\n"
      ],
      "metadata": {
        "colab": {
          "base_uri": "https://localhost:8080/"
        },
        "id": "sgUJLtKKsH4h",
        "outputId": "f4b83084-03b7-42b0-ad37-4f71c9ce6b2c"
      },
      "execution_count": 13,
      "outputs": [
        {
          "output_type": "stream",
          "name": "stdout",
          "text": [
            "📊 Linear Regression Performance:\n",
            "RMSE: 29.13\n",
            "MAE:  23.10\n"
          ]
        }
      ]
    },
    {
      "cell_type": "code",
      "source": [
        "import numpy as np\n",
        "import tensorflow as tf\n",
        "from tensorflow.keras.models import Sequential\n",
        "from tensorflow.keras.layers import Dense, Dropout, Flatten\n",
        "from tensorflow.keras.optimizers import Adam\n",
        "from sklearn.metrics import mean_squared_error, mean_absolute_error\n"
      ],
      "metadata": {
        "id": "fruW4LgxwgM_"
      },
      "execution_count": 14,
      "outputs": []
    },
    {
      "cell_type": "code",
      "source": [
        "# Load preprocessed and scaled datasets\n",
        "X_train = np.load(\"X_train_scaled.npy\")\n",
        "X_test = np.load(\"X_test_scaled.npy\")\n",
        "y_train = np.load(\"y_train.npy\")\n",
        "y_test = np.load(\"y_test.npy\")\n"
      ],
      "metadata": {
        "id": "Xvn1Ha54wk7v"
      },
      "execution_count": 15,
      "outputs": []
    },
    {
      "cell_type": "code",
      "source": [
        "# dense neural network\n",
        "model = Sequential([\n",
        "    Flatten(input_shape=(X_train.shape[1], X_train.shape[2])),\n",
        "    Dense(64, activation='relu'),\n",
        "    Dropout(0.3),\n",
        "    Dense(32, activation='relu'),\n",
        "    Dense(1)\n",
        "])\n"
      ],
      "metadata": {
        "colab": {
          "base_uri": "https://localhost:8080/"
        },
        "id": "zjiMCwB9wuBi",
        "outputId": "d5788208-c4b9-4899-fc84-5bd1ea150bba"
      },
      "execution_count": 16,
      "outputs": [
        {
          "output_type": "stream",
          "name": "stderr",
          "text": [
            "/usr/local/lib/python3.12/dist-packages/keras/src/layers/reshaping/flatten.py:37: UserWarning: Do not pass an `input_shape`/`input_dim` argument to a layer. When using Sequential models, prefer using an `Input(shape)` object as the first layer in the model instead.\n",
            "  super().__init__(**kwargs)\n"
          ]
        }
      ]
    },
    {
      "cell_type": "code",
      "source": [
        "model.compile(optimizer=Adam(learning_rate=0.001), loss='mse')\n",
        "\n",
        "# Train the model\n",
        "history = model.fit(X_train, y_train, epochs=20, batch_size=64, validation_split=0.2, verbose=1)\n"
      ],
      "metadata": {
        "colab": {
          "base_uri": "https://localhost:8080/"
        },
        "id": "5pA3rjAKw4Nl",
        "outputId": "eb8a9aa8-faf8-4900-da9d-25736252b8ad"
      },
      "execution_count": 17,
      "outputs": [
        {
          "output_type": "stream",
          "name": "stdout",
          "text": [
            "Epoch 1/20\n",
            "\u001b[1m178/178\u001b[0m \u001b[32m━━━━━━━━━━━━━━━━━━━━\u001b[0m\u001b[37m\u001b[0m \u001b[1m2s\u001b[0m 5ms/step - loss: 8795.6074 - val_loss: 5247.5488\n",
            "Epoch 2/20\n",
            "\u001b[1m178/178\u001b[0m \u001b[32m━━━━━━━━━━━━━━━━━━━━\u001b[0m\u001b[37m\u001b[0m \u001b[1m1s\u001b[0m 4ms/step - loss: 3260.3594 - val_loss: 3104.7856\n",
            "Epoch 3/20\n",
            "\u001b[1m178/178\u001b[0m \u001b[32m━━━━━━━━━━━━━━━━━━━━\u001b[0m\u001b[37m\u001b[0m \u001b[1m2s\u001b[0m 7ms/step - loss: 2184.5176 - val_loss: 2700.1252\n",
            "Epoch 4/20\n",
            "\u001b[1m178/178\u001b[0m \u001b[32m━━━━━━━━━━━━━━━━━━━━\u001b[0m\u001b[37m\u001b[0m \u001b[1m2s\u001b[0m 4ms/step - loss: 2038.2988 - val_loss: 2802.1514\n",
            "Epoch 5/20\n",
            "\u001b[1m178/178\u001b[0m \u001b[32m━━━━━━━━━━━━━━━━━━━━\u001b[0m\u001b[37m\u001b[0m \u001b[1m1s\u001b[0m 4ms/step - loss: 1936.9177 - val_loss: 2676.8374\n",
            "Epoch 6/20\n",
            "\u001b[1m178/178\u001b[0m \u001b[32m━━━━━━━━━━━━━━━━━━━━\u001b[0m\u001b[37m\u001b[0m \u001b[1m1s\u001b[0m 4ms/step - loss: 1867.8149 - val_loss: 2551.5283\n",
            "Epoch 7/20\n",
            "\u001b[1m178/178\u001b[0m \u001b[32m━━━━━━━━━━━━━━━━━━━━\u001b[0m\u001b[37m\u001b[0m \u001b[1m1s\u001b[0m 4ms/step - loss: 1774.3638 - val_loss: 2731.9321\n",
            "Epoch 8/20\n",
            "\u001b[1m178/178\u001b[0m \u001b[32m━━━━━━━━━━━━━━━━━━━━\u001b[0m\u001b[37m\u001b[0m \u001b[1m1s\u001b[0m 4ms/step - loss: 1752.9474 - val_loss: 2549.3604\n",
            "Epoch 9/20\n",
            "\u001b[1m178/178\u001b[0m \u001b[32m━━━━━━━━━━━━━━━━━━━━\u001b[0m\u001b[37m\u001b[0m \u001b[1m1s\u001b[0m 4ms/step - loss: 1691.7444 - val_loss: 2548.0664\n",
            "Epoch 10/20\n",
            "\u001b[1m178/178\u001b[0m \u001b[32m━━━━━━━━━━━━━━━━━━━━\u001b[0m\u001b[37m\u001b[0m \u001b[1m1s\u001b[0m 4ms/step - loss: 1573.8359 - val_loss: 2601.6169\n",
            "Epoch 11/20\n",
            "\u001b[1m178/178\u001b[0m \u001b[32m━━━━━━━━━━━━━━━━━━━━\u001b[0m\u001b[37m\u001b[0m \u001b[1m1s\u001b[0m 5ms/step - loss: 1595.1254 - val_loss: 2424.2327\n",
            "Epoch 12/20\n",
            "\u001b[1m178/178\u001b[0m \u001b[32m━━━━━━━━━━━━━━━━━━━━\u001b[0m\u001b[37m\u001b[0m \u001b[1m1s\u001b[0m 4ms/step - loss: 1626.2329 - val_loss: 2466.1672\n",
            "Epoch 13/20\n",
            "\u001b[1m178/178\u001b[0m \u001b[32m━━━━━━━━━━━━━━━━━━━━\u001b[0m\u001b[37m\u001b[0m \u001b[1m2s\u001b[0m 6ms/step - loss: 1598.1154 - val_loss: 2436.0325\n",
            "Epoch 14/20\n",
            "\u001b[1m178/178\u001b[0m \u001b[32m━━━━━━━━━━━━━━━━━━━━\u001b[0m\u001b[37m\u001b[0m \u001b[1m2s\u001b[0m 8ms/step - loss: 1467.3839 - val_loss: 2572.7837\n",
            "Epoch 15/20\n",
            "\u001b[1m178/178\u001b[0m \u001b[32m━━━━━━━━━━━━━━━━━━━━\u001b[0m\u001b[37m\u001b[0m \u001b[1m2s\u001b[0m 4ms/step - loss: 1495.4695 - val_loss: 2615.2434\n",
            "Epoch 16/20\n",
            "\u001b[1m178/178\u001b[0m \u001b[32m━━━━━━━━━━━━━━━━━━━━\u001b[0m\u001b[37m\u001b[0m \u001b[1m1s\u001b[0m 4ms/step - loss: 1444.3125 - val_loss: 2731.4268\n",
            "Epoch 17/20\n",
            "\u001b[1m178/178\u001b[0m \u001b[32m━━━━━━━━━━━━━━━━━━━━\u001b[0m\u001b[37m\u001b[0m \u001b[1m1s\u001b[0m 4ms/step - loss: 1423.3632 - val_loss: 2496.6492\n",
            "Epoch 18/20\n",
            "\u001b[1m178/178\u001b[0m \u001b[32m━━━━━━━━━━━━━━━━━━━━\u001b[0m\u001b[37m\u001b[0m \u001b[1m1s\u001b[0m 4ms/step - loss: 1391.6925 - val_loss: 2572.5974\n",
            "Epoch 19/20\n",
            "\u001b[1m178/178\u001b[0m \u001b[32m━━━━━━━━━━━━━━━━━━━━\u001b[0m\u001b[37m\u001b[0m \u001b[1m1s\u001b[0m 4ms/step - loss: 1276.2700 - val_loss: 2310.8193\n",
            "Epoch 20/20\n",
            "\u001b[1m178/178\u001b[0m \u001b[32m━━━━━━━━━━━━━━━━━━━━\u001b[0m\u001b[37m\u001b[0m \u001b[1m1s\u001b[0m 4ms/step - loss: 1344.5145 - val_loss: 2716.4248\n"
          ]
        }
      ]
    },
    {
      "cell_type": "code",
      "source": [
        "# To Predict\n",
        "y_pred_nn = model.predict(X_test)\n",
        "\n",
        "# To Calculate metrics\n",
        "rmse_nn = np.sqrt(mean_squared_error(y_test, y_pred_nn))\n",
        "mae_nn = mean_absolute_error(y_test, y_pred_nn)\n",
        "\n",
        "print(\"📊 Neural Network Performance:\")\n",
        "print(f\"RMSE: {rmse_nn:.2f}\")\n",
        "print(f\"MAE: {mae_nn:.2f}\")\n"
      ],
      "metadata": {
        "colab": {
          "base_uri": "https://localhost:8080/"
        },
        "id": "1rJcmoXgxHF_",
        "outputId": "e7f4f49c-7533-49e5-c3dc-b9908c792829"
      },
      "execution_count": 18,
      "outputs": [
        {
          "output_type": "stream",
          "name": "stdout",
          "text": [
            "\u001b[1m110/110\u001b[0m \u001b[32m━━━━━━━━━━━━━━━━━━━━\u001b[0m\u001b[37m\u001b[0m \u001b[1m1s\u001b[0m 3ms/step\n",
            "📊 Neural Network Performance:\n",
            "RMSE: 30.90\n",
            "MAE: 21.09\n"
          ]
        }
      ]
    },
    {
      "cell_type": "code",
      "source": [
        "model.save(\"model_dense_nn.h5\")\n"
      ],
      "metadata": {
        "colab": {
          "base_uri": "https://localhost:8080/"
        },
        "id": "bZ0FnwK3xRU3",
        "outputId": "eb61a3f1-c302-4669-a55c-d005629eeadb"
      },
      "execution_count": 19,
      "outputs": [
        {
          "output_type": "stream",
          "name": "stderr",
          "text": [
            "WARNING:absl:You are saving your model as an HDF5 file via `model.save()` or `keras.saving.save_model(model)`. This file format is considered legacy. We recommend using instead the native Keras format, e.g. `model.save('my_model.keras')` or `keras.saving.save_model(model, 'my_model.keras')`. \n"
          ]
        }
      ]
    },
    {
      "cell_type": "code",
      "source": [
        "import numpy as np\n",
        "\n",
        "# Load the preprocessed scaled time series data\n",
        "X_train = np.load(\"X_train_scaled.npy\")\n",
        "X_test = np.load(\"X_test_scaled.npy\")\n",
        "y_train = np.load(\"y_train.npy\")\n",
        "y_test = np.load(\"y_test.npy\")\n",
        "\n",
        "print(\"X_train shape:\", X_train.shape)\n",
        "print(\"X_test shape:\", X_test.shape)\n"
      ],
      "metadata": {
        "colab": {
          "base_uri": "https://localhost:8080/"
        },
        "id": "_-2El_Ls0OsC",
        "outputId": "8ea4939e-22aa-4291-fbe4-629f3c4d7ceb"
      },
      "execution_count": 20,
      "outputs": [
        {
          "output_type": "stream",
          "name": "stdout",
          "text": [
            "X_train shape: (14241, 30, 14)\n",
            "X_test shape: (3490, 30, 14)\n"
          ]
        }
      ]
    },
    {
      "cell_type": "code",
      "source": [
        "from tensorflow.keras.models import Sequential\n",
        "from tensorflow.keras.layers import LSTM, Dense\n",
        "from tensorflow.keras.optimizers import Adam\n",
        "from sklearn.metrics import mean_squared_error, mean_absolute_error\n",
        "import numpy as np\n",
        "\n",
        "# LSTM model\n",
        "model_lstm = Sequential()\n",
        "model_lstm.add(LSTM(64, activation='tanh', input_shape=(30, 14)))\n",
        "model_lstm.add(Dense(1))\n",
        "\n",
        "# Compile the model\n",
        "model_lstm.compile(optimizer=Adam(learning_rate=0.001), loss='mse')\n",
        "\n",
        "# Train the model\n",
        "history_lstm = model_lstm.fit(X_train, y_train, epochs=20, batch_size=64,\n",
        "                               validation_split=0.2, verbose=1)\n"
      ],
      "metadata": {
        "colab": {
          "base_uri": "https://localhost:8080/"
        },
        "id": "6J5KxODd0_pa",
        "outputId": "38142b1c-3182-4db5-82ce-c3b2aefac139"
      },
      "execution_count": 21,
      "outputs": [
        {
          "output_type": "stream",
          "name": "stdout",
          "text": [
            "Epoch 1/20\n"
          ]
        },
        {
          "output_type": "stream",
          "name": "stderr",
          "text": [
            "/usr/local/lib/python3.12/dist-packages/keras/src/layers/rnn/rnn.py:199: UserWarning: Do not pass an `input_shape`/`input_dim` argument to a layer. When using Sequential models, prefer using an `Input(shape)` object as the first layer in the model instead.\n",
            "  super().__init__(**kwargs)\n"
          ]
        },
        {
          "output_type": "stream",
          "name": "stdout",
          "text": [
            "\u001b[1m178/178\u001b[0m \u001b[32m━━━━━━━━━━━━━━━━━━━━\u001b[0m\u001b[37m\u001b[0m \u001b[1m5s\u001b[0m 20ms/step - loss: 10685.5762 - val_loss: 12358.2656\n",
            "Epoch 2/20\n",
            "\u001b[1m178/178\u001b[0m \u001b[32m━━━━━━━━━━━━━━━━━━━━\u001b[0m\u001b[37m\u001b[0m \u001b[1m5s\u001b[0m 19ms/step - loss: 8311.8955 - val_loss: 10591.6123\n",
            "Epoch 3/20\n",
            "\u001b[1m178/178\u001b[0m \u001b[32m━━━━━━━━━━━━━━━━━━━━\u001b[0m\u001b[37m\u001b[0m \u001b[1m4s\u001b[0m 24ms/step - loss: 6893.6309 - val_loss: 9241.1904\n",
            "Epoch 4/20\n",
            "\u001b[1m178/178\u001b[0m \u001b[32m━━━━━━━━━━━━━━━━━━━━\u001b[0m\u001b[37m\u001b[0m \u001b[1m3s\u001b[0m 19ms/step - loss: 5771.3130 - val_loss: 8195.2002\n",
            "Epoch 5/20\n",
            "\u001b[1m178/178\u001b[0m \u001b[32m━━━━━━━━━━━━━━━━━━━━\u001b[0m\u001b[37m\u001b[0m \u001b[1m3s\u001b[0m 19ms/step - loss: 5012.8174 - val_loss: 7399.4849\n",
            "Epoch 6/20\n",
            "\u001b[1m178/178\u001b[0m \u001b[32m━━━━━━━━━━━━━━━━━━━━\u001b[0m\u001b[37m\u001b[0m \u001b[1m4s\u001b[0m 20ms/step - loss: 4485.4321 - val_loss: 6801.2891\n",
            "Epoch 7/20\n",
            "\u001b[1m178/178\u001b[0m \u001b[32m━━━━━━━━━━━━━━━━━━━━\u001b[0m\u001b[37m\u001b[0m \u001b[1m5s\u001b[0m 17ms/step - loss: 4216.0010 - val_loss: 6363.8525\n",
            "Epoch 8/20\n",
            "\u001b[1m178/178\u001b[0m \u001b[32m━━━━━━━━━━━━━━━━━━━━\u001b[0m\u001b[37m\u001b[0m \u001b[1m3s\u001b[0m 19ms/step - loss: 3944.6360 - val_loss: 6048.5000\n",
            "Epoch 9/20\n",
            "\u001b[1m178/178\u001b[0m \u001b[32m━━━━━━━━━━━━━━━━━━━━\u001b[0m\u001b[37m\u001b[0m \u001b[1m6s\u001b[0m 23ms/step - loss: 3860.6289 - val_loss: 5827.9863\n",
            "Epoch 10/20\n",
            "\u001b[1m178/178\u001b[0m \u001b[32m━━━━━━━━━━━━━━━━━━━━\u001b[0m\u001b[37m\u001b[0m \u001b[1m3s\u001b[0m 19ms/step - loss: 3623.7053 - val_loss: 5676.2339\n",
            "Epoch 11/20\n",
            "\u001b[1m178/178\u001b[0m \u001b[32m━━━━━━━━━━━━━━━━━━━━\u001b[0m\u001b[37m\u001b[0m \u001b[1m3s\u001b[0m 18ms/step - loss: 3620.4036 - val_loss: 5574.4712\n",
            "Epoch 12/20\n",
            "\u001b[1m178/178\u001b[0m \u001b[32m━━━━━━━━━━━━━━━━━━━━\u001b[0m\u001b[37m\u001b[0m \u001b[1m3s\u001b[0m 18ms/step - loss: 3628.3440 - val_loss: 5366.2534\n",
            "Epoch 13/20\n",
            "\u001b[1m178/178\u001b[0m \u001b[32m━━━━━━━━━━━━━━━━━━━━\u001b[0m\u001b[37m\u001b[0m \u001b[1m5s\u001b[0m 18ms/step - loss: 3038.0247 - val_loss: 4138.9307\n",
            "Epoch 14/20\n",
            "\u001b[1m178/178\u001b[0m \u001b[32m━━━━━━━━━━━━━━━━━━━━\u001b[0m\u001b[37m\u001b[0m \u001b[1m3s\u001b[0m 19ms/step - loss: 2277.1179 - val_loss: 3635.5085\n",
            "Epoch 15/20\n",
            "\u001b[1m178/178\u001b[0m \u001b[32m━━━━━━━━━━━━━━━━━━━━\u001b[0m\u001b[37m\u001b[0m \u001b[1m4s\u001b[0m 23ms/step - loss: 1885.9066 - val_loss: 3521.2158\n",
            "Epoch 16/20\n",
            "\u001b[1m178/178\u001b[0m \u001b[32m━━━━━━━━━━━━━━━━━━━━\u001b[0m\u001b[37m\u001b[0m \u001b[1m4s\u001b[0m 18ms/step - loss: 1719.4651 - val_loss: 2985.5278\n",
            "Epoch 17/20\n",
            "\u001b[1m178/178\u001b[0m \u001b[32m━━━━━━━━━━━━━━━━━━━━\u001b[0m\u001b[37m\u001b[0m \u001b[1m5s\u001b[0m 18ms/step - loss: 1533.1519 - val_loss: 2776.1069\n",
            "Epoch 18/20\n",
            "\u001b[1m178/178\u001b[0m \u001b[32m━━━━━━━━━━━━━━━━━━━━\u001b[0m\u001b[37m\u001b[0m \u001b[1m4s\u001b[0m 21ms/step - loss: 1421.0090 - val_loss: 2618.1191\n",
            "Epoch 19/20\n",
            "\u001b[1m178/178\u001b[0m \u001b[32m━━━━━━━━━━━━━━━━━━━━\u001b[0m\u001b[37m\u001b[0m \u001b[1m4s\u001b[0m 21ms/step - loss: 1400.3883 - val_loss: 2400.0610\n",
            "Epoch 20/20\n",
            "\u001b[1m178/178\u001b[0m \u001b[32m━━━━━━━━━━━━━━━━━━━━\u001b[0m\u001b[37m\u001b[0m \u001b[1m4s\u001b[0m 20ms/step - loss: 1237.2665 - val_loss: 2270.4478\n"
          ]
        }
      ]
    },
    {
      "cell_type": "code",
      "source": [
        "# for predictions\n",
        "y_pred_lstm = model_lstm.predict(X_test)\n",
        "\n",
        "# performance metrics\n",
        "rmse_lstm = np.sqrt(mean_squared_error(y_test, y_pred_lstm))\n",
        "mae_lstm = mean_absolute_error(y_test, y_pred_lstm)\n",
        "\n",
        "print(\"📊 LSTM Model Performance:\")\n",
        "print(f\"RMSE: {rmse_lstm:.2f}\")\n",
        "print(f\"MAE: {mae_lstm:.2f}\")\n"
      ],
      "metadata": {
        "colab": {
          "base_uri": "https://localhost:8080/"
        },
        "id": "ulJZZjp-2crv",
        "outputId": "39eb0b37-8542-4056-e090-eff627b70255"
      },
      "execution_count": 22,
      "outputs": [
        {
          "output_type": "stream",
          "name": "stdout",
          "text": [
            "\u001b[1m110/110\u001b[0m \u001b[32m━━━━━━━━━━━━━━━━━━━━\u001b[0m\u001b[37m\u001b[0m \u001b[1m1s\u001b[0m 7ms/step\n",
            "📊 LSTM Model Performance:\n",
            "RMSE: 29.92\n",
            "MAE: 21.45\n"
          ]
        }
      ]
    },
    {
      "cell_type": "code",
      "source": [
        "import matplotlib.pyplot as plt\n",
        "import pandas as pd\n",
        "\n",
        "# model metridcs\n",
        "results = {\n",
        "    'Model': ['Linear Regression', 'Neural Network', 'LSTM'],\n",
        "    'RMSE': [29.13, 30.90, 29.92],\n",
        "    'MAE': [23.10, 21.09, 21.45]\n",
        "}\n",
        "\n",
        "# DataFrame resumen\n",
        "df_results = pd.DataFrame(results)\n",
        "\n",
        "# show table\n",
        "print(\"Model Evaluation Summary:\")\n",
        "print(df_results)\n",
        "\n",
        "#  RMSE\n",
        "plt.figure(figsize=(8, 4))\n",
        "plt.bar(df_results['Model'], df_results['RMSE'], color='lightcoral')\n",
        "plt.title('RMSE Comparison Across Models')\n",
        "plt.ylabel('RMSE')\n",
        "plt.tight_layout()\n",
        "plt.show()\n",
        "\n",
        "#  MAE\n",
        "plt.figure(figsize=(8, 4))\n",
        "plt.bar(df_results['Model'], df_results['MAE'], color='lightblue')\n",
        "plt.title('MAE Comparison Across Models')\n",
        "plt.ylabel('MAE')\n",
        "plt.tight_layout()\n",
        "plt.show()\n"
      ],
      "metadata": {
        "colab": {
          "base_uri": "https://localhost:8080/",
          "height": 884
        },
        "id": "b9BIwNdJ5ITs",
        "outputId": "230bd75f-9227-485b-a86a-fe8adc318526"
      },
      "execution_count": 23,
      "outputs": [
        {
          "output_type": "stream",
          "name": "stdout",
          "text": [
            "Model Evaluation Summary:\n",
            "               Model   RMSE    MAE\n",
            "0  Linear Regression  29.13  23.10\n",
            "1     Neural Network  30.90  21.09\n",
            "2               LSTM  29.92  21.45\n"
          ]
        },
        {
          "output_type": "display_data",
          "data": {
            "text/plain": [
              "<Figure size 800x400 with 1 Axes>"
            ],
            "image/png": "[encoded data removed]"
          },
          "metadata": {}
        },
        {
          "output_type": "display_data",
          "data": {
            "text/plain": [
              "<Figure size 800x400 with 1 Axes>"
            ],
            "image/png": "[encoded data removed]"
          },
          "metadata": {}
        }
      ]
    }
  ]
}